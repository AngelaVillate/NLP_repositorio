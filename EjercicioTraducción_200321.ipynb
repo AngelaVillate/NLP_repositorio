{
 "cells": [
  {
   "cell_type": "markdown",
   "metadata": {},
   "source": [
    "## Traducción de un texto en francés haciendo uso de la librería textblob"
   ]
  },
  {
   "cell_type": "markdown",
   "metadata": {},
   "source": [
    "Sin embargo, tengo un inconveniente al momento de hacer uso de la librería. El error es 'list' object has no attribute 'strip'. He intentado con tres tipos de códigos, pero el error persiste."
   ]
  },
  {
   "cell_type": "code",
   "execution_count": 1,
   "metadata": {},
   "outputs": [
    {
     "name": "stdout",
     "output_type": "stream",
     "text": [
      "Requirement already satisfied: textblob in c:\\users\\villa\\anaconda3\\lib\\site-packages (0.15.3)\n",
      "Requirement already satisfied: nltk>=3.1 in c:\\users\\villa\\anaconda3\\lib\\site-packages (from textblob) (3.4.5)\n",
      "Requirement already satisfied: six in c:\\users\\villa\\anaconda3\\lib\\site-packages (from nltk>=3.1->textblob) (1.15.0)\n"
     ]
    }
   ],
   "source": [
    "!pip install textblob"
   ]
  },
  {
   "cell_type": "code",
   "execution_count": 1,
   "metadata": {},
   "outputs": [],
   "source": [
    "import pandas as pd\n",
    "import string\n",
    "from textblob import TextBlob"
   ]
  },
  {
   "cell_type": "markdown",
   "metadata": {},
   "source": [
    "### Intento 1."
   ]
  },
  {
   "cell_type": "code",
   "execution_count": 14,
   "metadata": {},
   "outputs": [
    {
     "name": "stdout",
     "output_type": "stream",
     "text": [
      "POUR LA GLOTTOPOLITIQUE1 1 Un besoin 11 A propos du terme Personne en France ne songerait à nier pour d’autres pays l’utilité de l’action politique sur le langage On voit mal du reste comment on pourrait masquer l’importance de cette pratique dans des pays comme le Québec ou la Catalogne compte tenu de l’ampleur des travaux dans ce domaine  il suffit de se référer à des publications facilement accessibles  pour le Québec Martin 1981 Bedard et Maurais 1983 Maurais 1985  pour la Catalogne Kremnitz 1980 1981 PuigMoreno 1985 Vallverdu 1985 Dans notre pays il y a bien eu et dotées de l’efficacité que l’on sait des « politiques linguistiques »  si l’on en croit la démonstration de R Balibar 1985 notre langue n’estelle pas née ellemême d’un acte de reconnaissancenaissance tel que le définit Marcellesi 1984b  Mais on a tendance à mettre tout l’accent sur le premier terme du syntagme et les linguistes peu sollicités se sentent peu concernés L’existence d’un service ministériel portant cet intitulé n’est pas nécessairement mobilisatrice Ce sont toutefois d’autres considérations qui nous ont conduits à préférer à des suites comme politique linguistique ou planification linguistique un néologisme Sans l’avoir inventé nous avons mis en avant le mot « glottopolitique » à l’occasion d’un symposium dont les actes viennent de paraître Winther 1985 Nous avons donné dans Guespin 1985b les raisons qui nous ont conduits à utiliser ce terme Essentiellement il offre à nos yeux l’avantage de neutraliser sans s’exprimer à son égard l’opposition entre langue et parole Il désigne les diverses approches qu’une société a de l’action sur le langage qu’elle en soit ou non consciente  aussi bien la langue quand la société légifère sur les statuts réciproques du français et des langues minoritaires par exemple  la parole quand elle réprime tel emploi chez tel ou tel  le discours quand l’école fait de la production de tel type de texte matière à examen  Glottopolitique est nécessaire pour englober tous les faits de langage où l’action de la société revêt la forme du politique Ces considérations ne prétendent nullement périmer les termes de « planification linguistique » ou « de politique de la langue » Mais il faut prendre en compte que P6 toute décision de politique de la langue aura nécessairement si elle entre en application des conséquences glottopolitiques  c’est en particulier ce qu’exprime l’opposition anglosaxonne entre language corpus planning et language status planning Pool 1979 1 L Guespin et JB Marcellesi LANGAGES n° 83 1986  534 La pagination originale est indiquée dans le texte comme suit  p n GLOTTOPOL – N° 1 – Janvier 2003\n"
     ]
    }
   ],
   "source": [
    "with open(\"Gloto1.txt\", encoding='utf-8') as archivo:\n",
    "    data = archivo.read()\n",
    "    words = data.split()\n",
    "    #print (words)\n",
    "    table = str.maketrans(\"\", \"\", string.punctuation)\n",
    "    stripped = [w.translate(table) for w in words]\n",
    "    #print (stripped)\n",
    "    assembled = \" \".join(stripped)\n",
    "    print (assembled)\n",
    "    "
   ]
  },
  {
   "cell_type": "code",
   "execution_count": 19,
   "metadata": {},
   "outputs": [
    {
     "ename": "AttributeError",
     "evalue": "'list' object has no attribute 'strip'",
     "output_type": "error",
     "traceback": [
      "\u001b[1;31m---------------------------------------------------------------------------\u001b[0m",
      "\u001b[1;31mAttributeError\u001b[0m                            Traceback (most recent call last)",
      "\u001b[1;32m<ipython-input-19-278df21844dc>\u001b[0m in \u001b[0;36m<module>\u001b[1;34m\u001b[0m\n\u001b[0;32m      1\u001b[0m \u001b[1;31m#Creo un objeto y llamo la libreria\u001b[0m\u001b[1;33m\u001b[0m\u001b[1;33m\u001b[0m\u001b[1;33m\u001b[0m\u001b[0m\n\u001b[0;32m      2\u001b[0m \u001b[0mfb\u001b[0m\u001b[1;33m=\u001b[0m\u001b[0mTextBlob\u001b[0m\u001b[1;33m(\u001b[0m\u001b[0massembled\u001b[0m\u001b[1;33m)\u001b[0m\u001b[1;33m\u001b[0m\u001b[1;33m\u001b[0m\u001b[0m\n\u001b[1;32m----> 3\u001b[1;33m \u001b[0mprint\u001b[0m\u001b[1;33m(\u001b[0m\u001b[0mfb\u001b[0m\u001b[1;33m.\u001b[0m\u001b[0mtranslate\u001b[0m\u001b[1;33m(\u001b[0m\u001b[0mfrom_lang\u001b[0m\u001b[1;33m=\u001b[0m\u001b[1;34m'fr'\u001b[0m\u001b[1;33m,\u001b[0m\u001b[0mto\u001b[0m\u001b[1;33m=\u001b[0m\u001b[1;34m'es'\u001b[0m\u001b[1;33m)\u001b[0m\u001b[1;33m)\u001b[0m\u001b[1;33m\u001b[0m\u001b[1;33m\u001b[0m\u001b[0m\n\u001b[0m",
      "\u001b[1;32m~\\anaconda3\\lib\\site-packages\\textblob\\blob.py\u001b[0m in \u001b[0;36mtranslate\u001b[1;34m(self, from_lang, to)\u001b[0m\n\u001b[0;32m    545\u001b[0m         \"\"\"\n\u001b[0;32m    546\u001b[0m         return self.__class__(self.translator.translate(self.raw,\n\u001b[1;32m--> 547\u001b[1;33m                               from_lang=from_lang, to_lang=to))\n\u001b[0m\u001b[0;32m    548\u001b[0m \u001b[1;33m\u001b[0m\u001b[0m\n\u001b[0;32m    549\u001b[0m     \u001b[1;32mdef\u001b[0m \u001b[0mdetect_language\u001b[0m\u001b[1;33m(\u001b[0m\u001b[0mself\u001b[0m\u001b[1;33m)\u001b[0m\u001b[1;33m:\u001b[0m\u001b[1;33m\u001b[0m\u001b[1;33m\u001b[0m\u001b[0m\n",
      "\u001b[1;32m~\\anaconda3\\lib\\site-packages\\textblob\\translate.py\u001b[0m in \u001b[0;36mtranslate\u001b[1;34m(self, source, from_lang, to_lang, host, type_)\u001b[0m\n\u001b[0;32m     59\u001b[0m             \u001b[1;32mexcept\u001b[0m \u001b[0mIndexError\u001b[0m\u001b[1;33m:\u001b[0m\u001b[1;33m\u001b[0m\u001b[1;33m\u001b[0m\u001b[0m\n\u001b[0;32m     60\u001b[0m                 \u001b[1;32mpass\u001b[0m\u001b[1;33m\u001b[0m\u001b[1;33m\u001b[0m\u001b[0m\n\u001b[1;32m---> 61\u001b[1;33m         \u001b[0mself\u001b[0m\u001b[1;33m.\u001b[0m\u001b[0m_validate_translation\u001b[0m\u001b[1;33m(\u001b[0m\u001b[0msource\u001b[0m\u001b[1;33m,\u001b[0m \u001b[0mresult\u001b[0m\u001b[1;33m)\u001b[0m\u001b[1;33m\u001b[0m\u001b[1;33m\u001b[0m\u001b[0m\n\u001b[0m\u001b[0;32m     62\u001b[0m         \u001b[1;32mreturn\u001b[0m \u001b[0mresult\u001b[0m\u001b[1;33m\u001b[0m\u001b[1;33m\u001b[0m\u001b[0m\n\u001b[0;32m     63\u001b[0m \u001b[1;33m\u001b[0m\u001b[0m\n",
      "\u001b[1;32m~\\anaconda3\\lib\\site-packages\\textblob\\translate.py\u001b[0m in \u001b[0;36m_validate_translation\u001b[1;34m(self, source, result)\u001b[0m\n\u001b[0;32m     82\u001b[0m         \u001b[1;32mif\u001b[0m \u001b[0mPY2\u001b[0m\u001b[1;33m:\u001b[0m\u001b[1;33m\u001b[0m\u001b[1;33m\u001b[0m\u001b[0m\n\u001b[0;32m     83\u001b[0m             \u001b[0mresult\u001b[0m \u001b[1;33m=\u001b[0m \u001b[0mresult\u001b[0m\u001b[1;33m.\u001b[0m\u001b[0mencode\u001b[0m\u001b[1;33m(\u001b[0m\u001b[1;34m'utf-8'\u001b[0m\u001b[1;33m)\u001b[0m\u001b[1;33m\u001b[0m\u001b[1;33m\u001b[0m\u001b[0m\n\u001b[1;32m---> 84\u001b[1;33m         \u001b[1;32mif\u001b[0m \u001b[0mresult\u001b[0m\u001b[1;33m.\u001b[0m\u001b[0mstrip\u001b[0m\u001b[1;33m(\u001b[0m\u001b[1;33m)\u001b[0m \u001b[1;33m==\u001b[0m \u001b[0msource\u001b[0m\u001b[1;33m.\u001b[0m\u001b[0mstrip\u001b[0m\u001b[1;33m(\u001b[0m\u001b[1;33m)\u001b[0m\u001b[1;33m:\u001b[0m\u001b[1;33m\u001b[0m\u001b[1;33m\u001b[0m\u001b[0m\n\u001b[0m\u001b[0;32m     85\u001b[0m             \u001b[1;32mraise\u001b[0m \u001b[0mNotTranslated\u001b[0m\u001b[1;33m(\u001b[0m\u001b[1;34m'Translation API returned the input string unchanged.'\u001b[0m\u001b[1;33m)\u001b[0m\u001b[1;33m\u001b[0m\u001b[1;33m\u001b[0m\u001b[0m\n\u001b[0;32m     86\u001b[0m \u001b[1;33m\u001b[0m\u001b[0m\n",
      "\u001b[1;31mAttributeError\u001b[0m: 'list' object has no attribute 'strip'"
     ]
    }
   ],
   "source": [
    "#Creo un objeto y llamo la libreria\n",
    "fb=TextBlob(assembled)\n",
    "print(fb.translate(from_lang='fr',to='es'))"
   ]
  },
  {
   "cell_type": "markdown",
   "metadata": {},
   "source": [
    "## Intento 2"
   ]
  },
  {
   "cell_type": "code",
   "execution_count": 21,
   "metadata": {},
   "outputs": [
    {
     "name": "stdout",
     "output_type": "stream",
     "text": [
      "POUR LA GLOTTOPOLITIQUE1\n",
      "1. Un besoin \n",
      "1.1. A propos du terme Personne en France ne songerait à nier, pour d’autres pays, l’utilité de l’action politique sur le langage. On voit mal du reste comment on pourrait masquer l’importance de cette pratique\n",
      "dans des pays comme le Québec ou la Catalogne, compte tenu de l’ampleur des travaux dans ce domaine ; il suffit de se référer à des publications facilement accessibles : pour le Québec,\n",
      "Martin (1981), Bedard et Maurais (1983), Maurais (1985) ; pour la Catalogne, Kremnitz (1980, 1981), Puig-Moreno (1985), Vallverdu (1985).\n",
      "Dans notre pays, il y a bien eu, et dotées de l’efficacité que l’on sait, des « politiques linguistiques » : si l’on en croit la démonstration de R. Balibar (1985), notre langue n’est-elle\n",
      "pas née elle-même d’un acte de reconnaissance-naissance tel que le définit Marcellesi (1984b) ? Mais on a tendance à mettre tout l’accent sur le premier terme du syntagme, et les\n",
      "linguistes, peu sollicités, se sentent peu concernés. L’existence d’un service ministériel portant cet intitulé n’est pas nécessairement mobilisatrice.\n",
      "Ce sont toutefois d’autres considérations qui nous ont conduits à préférer, à des suites comme politique linguistique ou planification linguistique, un néologisme. Sans l’avoir\n",
      "inventé, nous avons mis en avant le mot « glottopolitique » à l’occasion d’un symposium dont les actes viennent de paraître (Winther 1985). Nous avons donné dans Guespin (1985b) les\n",
      "raisons qui nous ont conduits à utiliser ce terme. Essentiellement, il offre à nos yeux l’avantage de neutraliser, sans s’exprimer à son égard, l’opposition entre langue et parole. Il\n",
      "désigne les diverses approches qu’une société a de l’action sur le langage, qu’elle en soit ou non consciente : aussi bien la langue, quand la société légifère sur les statuts réciproques du\n",
      "français et des langues minoritaires par exemple ; la parole, quand elle réprime tel emploi chez tel ou tel ; le discours, quand l’école fait de la production de tel type de texte matière à\n",
      "examen : Glottopolitique est nécessaire pour englober tous les faits de langage où l’action de la société revêt la forme du politique.\n",
      "Ces considérations ne prétendent nullement périmer les termes de « planification linguistique » ou « de politique de la langue ». Mais il faut prendre en compte que <P.6> toute\n",
      "décision de politique de la langue aura nécessairement, si elle entre en application, des conséquences glottopolitiques ; c’est en particulier ce qu’exprime l’opposition anglo-saxonne\n",
      "entre language corpus planning et language status planning (Pool 1979).\n",
      "1 L. Guespin et J-B. Marcellesi, LANGAGES n° 83, 1986 : 5-34. La pagination originale est indiquée dans le\n",
      "texte comme suit : <p. n>.\n",
      "GLOTTOPOL – N° 1 – Janvier 2003\n"
     ]
    }
   ],
   "source": [
    "with open(\"Gloto1.txt\", encoding='utf-8') as archivo:\n",
    "    data = archivo.read()\n",
    "    words = data.split()\n",
    "    words= data.strip()\n",
    "    print (words)   "
   ]
  },
  {
   "cell_type": "code",
   "execution_count": 22,
   "metadata": {},
   "outputs": [
    {
     "ename": "AttributeError",
     "evalue": "'list' object has no attribute 'strip'",
     "output_type": "error",
     "traceback": [
      "\u001b[1;31m---------------------------------------------------------------------------\u001b[0m",
      "\u001b[1;31mAttributeError\u001b[0m                            Traceback (most recent call last)",
      "\u001b[1;32m<ipython-input-22-278df21844dc>\u001b[0m in \u001b[0;36m<module>\u001b[1;34m\u001b[0m\n\u001b[0;32m      1\u001b[0m \u001b[1;31m#Creo un objeto y llamo la libreria\u001b[0m\u001b[1;33m\u001b[0m\u001b[1;33m\u001b[0m\u001b[1;33m\u001b[0m\u001b[0m\n\u001b[0;32m      2\u001b[0m \u001b[0mfb\u001b[0m\u001b[1;33m=\u001b[0m\u001b[0mTextBlob\u001b[0m\u001b[1;33m(\u001b[0m\u001b[0massembled\u001b[0m\u001b[1;33m)\u001b[0m\u001b[1;33m\u001b[0m\u001b[1;33m\u001b[0m\u001b[0m\n\u001b[1;32m----> 3\u001b[1;33m \u001b[0mprint\u001b[0m\u001b[1;33m(\u001b[0m\u001b[0mfb\u001b[0m\u001b[1;33m.\u001b[0m\u001b[0mtranslate\u001b[0m\u001b[1;33m(\u001b[0m\u001b[0mfrom_lang\u001b[0m\u001b[1;33m=\u001b[0m\u001b[1;34m'fr'\u001b[0m\u001b[1;33m,\u001b[0m\u001b[0mto\u001b[0m\u001b[1;33m=\u001b[0m\u001b[1;34m'es'\u001b[0m\u001b[1;33m)\u001b[0m\u001b[1;33m)\u001b[0m\u001b[1;33m\u001b[0m\u001b[1;33m\u001b[0m\u001b[0m\n\u001b[0m",
      "\u001b[1;32m~\\anaconda3\\lib\\site-packages\\textblob\\blob.py\u001b[0m in \u001b[0;36mtranslate\u001b[1;34m(self, from_lang, to)\u001b[0m\n\u001b[0;32m    545\u001b[0m         \"\"\"\n\u001b[0;32m    546\u001b[0m         return self.__class__(self.translator.translate(self.raw,\n\u001b[1;32m--> 547\u001b[1;33m                               from_lang=from_lang, to_lang=to))\n\u001b[0m\u001b[0;32m    548\u001b[0m \u001b[1;33m\u001b[0m\u001b[0m\n\u001b[0;32m    549\u001b[0m     \u001b[1;32mdef\u001b[0m \u001b[0mdetect_language\u001b[0m\u001b[1;33m(\u001b[0m\u001b[0mself\u001b[0m\u001b[1;33m)\u001b[0m\u001b[1;33m:\u001b[0m\u001b[1;33m\u001b[0m\u001b[1;33m\u001b[0m\u001b[0m\n",
      "\u001b[1;32m~\\anaconda3\\lib\\site-packages\\textblob\\translate.py\u001b[0m in \u001b[0;36mtranslate\u001b[1;34m(self, source, from_lang, to_lang, host, type_)\u001b[0m\n\u001b[0;32m     59\u001b[0m             \u001b[1;32mexcept\u001b[0m \u001b[0mIndexError\u001b[0m\u001b[1;33m:\u001b[0m\u001b[1;33m\u001b[0m\u001b[1;33m\u001b[0m\u001b[0m\n\u001b[0;32m     60\u001b[0m                 \u001b[1;32mpass\u001b[0m\u001b[1;33m\u001b[0m\u001b[1;33m\u001b[0m\u001b[0m\n\u001b[1;32m---> 61\u001b[1;33m         \u001b[0mself\u001b[0m\u001b[1;33m.\u001b[0m\u001b[0m_validate_translation\u001b[0m\u001b[1;33m(\u001b[0m\u001b[0msource\u001b[0m\u001b[1;33m,\u001b[0m \u001b[0mresult\u001b[0m\u001b[1;33m)\u001b[0m\u001b[1;33m\u001b[0m\u001b[1;33m\u001b[0m\u001b[0m\n\u001b[0m\u001b[0;32m     62\u001b[0m         \u001b[1;32mreturn\u001b[0m \u001b[0mresult\u001b[0m\u001b[1;33m\u001b[0m\u001b[1;33m\u001b[0m\u001b[0m\n\u001b[0;32m     63\u001b[0m \u001b[1;33m\u001b[0m\u001b[0m\n",
      "\u001b[1;32m~\\anaconda3\\lib\\site-packages\\textblob\\translate.py\u001b[0m in \u001b[0;36m_validate_translation\u001b[1;34m(self, source, result)\u001b[0m\n\u001b[0;32m     82\u001b[0m         \u001b[1;32mif\u001b[0m \u001b[0mPY2\u001b[0m\u001b[1;33m:\u001b[0m\u001b[1;33m\u001b[0m\u001b[1;33m\u001b[0m\u001b[0m\n\u001b[0;32m     83\u001b[0m             \u001b[0mresult\u001b[0m \u001b[1;33m=\u001b[0m \u001b[0mresult\u001b[0m\u001b[1;33m.\u001b[0m\u001b[0mencode\u001b[0m\u001b[1;33m(\u001b[0m\u001b[1;34m'utf-8'\u001b[0m\u001b[1;33m)\u001b[0m\u001b[1;33m\u001b[0m\u001b[1;33m\u001b[0m\u001b[0m\n\u001b[1;32m---> 84\u001b[1;33m         \u001b[1;32mif\u001b[0m \u001b[0mresult\u001b[0m\u001b[1;33m.\u001b[0m\u001b[0mstrip\u001b[0m\u001b[1;33m(\u001b[0m\u001b[1;33m)\u001b[0m \u001b[1;33m==\u001b[0m \u001b[0msource\u001b[0m\u001b[1;33m.\u001b[0m\u001b[0mstrip\u001b[0m\u001b[1;33m(\u001b[0m\u001b[1;33m)\u001b[0m\u001b[1;33m:\u001b[0m\u001b[1;33m\u001b[0m\u001b[1;33m\u001b[0m\u001b[0m\n\u001b[0m\u001b[0;32m     85\u001b[0m             \u001b[1;32mraise\u001b[0m \u001b[0mNotTranslated\u001b[0m\u001b[1;33m(\u001b[0m\u001b[1;34m'Translation API returned the input string unchanged.'\u001b[0m\u001b[1;33m)\u001b[0m\u001b[1;33m\u001b[0m\u001b[1;33m\u001b[0m\u001b[0m\n\u001b[0;32m     86\u001b[0m \u001b[1;33m\u001b[0m\u001b[0m\n",
      "\u001b[1;31mAttributeError\u001b[0m: 'list' object has no attribute 'strip'"
     ]
    }
   ],
   "source": [
    "#Creo un objeto y llamo la libreria\n",
    "fb=TextBlob(assembled)\n",
    "print(fb.translate(from_lang='fr',to='es'))"
   ]
  },
  {
   "cell_type": "markdown",
   "metadata": {},
   "source": [
    "## Intento 3"
   ]
  },
  {
   "cell_type": "code",
   "execution_count": 24,
   "metadata": {},
   "outputs": [
    {
     "data": {
      "text/plain": [
       "'POUR LA GLOTTOPOLITIQUE Un besoin A propos du terme Personne en France ne songerait à nier pour d autres pays l utilité de l action politique sur le langage On voit mal du reste comment on pourrait masquer l importance de cette pratique dans des pays comme le Québec ou la Catalogne compte tenu de l ampleur des travaux dans ce domaine il suffit de se référer à des publications facilement accessibles pour le Québec Martin Bedard et Maurais Maurais pour la Catalogne Kremnitz Puig Moreno Vallverdu Dans notre pays il y a bien eu et dotées de l efficacité que l on sait des politiques linguistiques si l on en croit la démonstration de R Balibar notre langue n est elle pas née elle même d un acte de reconnaissance naissance tel que le définit Marcellesi b Mais on a tendance à mettre tout l accent sur le premier terme du syntagme et les linguistes peu sollicités se sentent peu concernés L existence d un service ministériel portant cet intitulé n est pas nécessairement mobilisatrice Ce sont toutefois d autres considérations qui nous ont conduits à préférer à des suites comme politique linguistique ou planification linguistique un néologisme Sans l avoir inventé nous avons mis en avant le mot glottopolitique à l occasion d un symposium dont les actes viennent de paraître Winther Nous avons donné dans Guespin b les raisons qui nous ont conduits à utiliser ce terme Essentiellement il offre à nos yeux l avantage de neutraliser sans s exprimer à son égard l opposition entre langue et parole Il désigne les diverses approches qu une société a de l action sur le langage qu elle en soit ou non consciente aussi bien la langue quand la société légifère sur les statuts réciproques du français et des langues minoritaires par exemple la parole quand elle réprime tel emploi chez tel ou tel le discours quand l école fait de la production de tel type de texte matière à examen Glottopolitique est nécessaire pour englober tous les faits de langage où l action de la société revêt la forme du politique Ces considérations ne prétendent nullement périmer les termes de planification linguistique ou de politique de la langue Mais il faut prendre en compte que P toute décision de politique de la langue aura nécessairement si elle entre en application des conséquences glottopolitiques c est en particulier ce qu exprime l opposition anglo saxonne entre language corpus planning et language status planning Pool L Guespin et J B Marcellesi LANGAGES n La pagination originale est indiquée dans le texte comme suit p n GLOTTOPOL N Janvier '"
      ]
     },
     "execution_count": 24,
     "metadata": {},
     "output_type": "execute_result"
    }
   ],
   "source": [
    "import re\n",
    "data= re.sub(r\"[\\W\\d_]+\", \" \", data)\n",
    "data"
   ]
  },
  {
   "cell_type": "code",
   "execution_count": 25,
   "metadata": {},
   "outputs": [
    {
     "data": {
      "text/plain": [
       "'POUR LA GLOTTOPOLITIQUE Un besoin A propos du terme Personne en France ne songerait à nier pour d autres pays l utilité de l action politique sur le langage On voit mal du reste comment on pourrait masquer l importance de cette pratique dans des pays comme le Québec ou la Catalogne compte tenu de l ampleur des travaux dans ce domaine il suffit de se référer à des publications facilement accessibles pour le Québec Martin Bedard et Maurais Maurais pour la Catalogne Kremnitz Puig Moreno Vallverdu Dans notre pays il y a bien eu et dotées de l efficacité que l on sait des politiques linguistiques si l on en croit la démonstration de R Balibar notre langue n est elle pas née elle même d un acte de reconnaissance naissance tel que le définit Marcellesi b Mais on a tendance à mettre tout l accent sur le premier terme du syntagme et les linguistes peu sollicités se sentent peu concernés L existence d un service ministériel portant cet intitulé n est pas nécessairement mobilisatrice Ce sont toutefois d autres considérations qui nous ont conduits à préférer à des suites comme politique linguistique ou planification linguistique un néologisme Sans l avoir inventé nous avons mis en avant le mot glottopolitique à l occasion d un symposium dont les actes viennent de paraître Winther Nous avons donné dans Guespin b les raisons qui nous ont conduits à utiliser ce terme Essentiellement il offre à nos yeux l avantage de neutraliser sans s exprimer à son égard l opposition entre langue et parole Il désigne les diverses approches qu une société a de l action sur le langage qu elle en soit ou non consciente aussi bien la langue quand la société légifère sur les statuts réciproques du français et des langues minoritaires par exemple la parole quand elle réprime tel emploi chez tel ou tel le discours quand l école fait de la production de tel type de texte matière à examen Glottopolitique est nécessaire pour englober tous les faits de langage où l action de la société revêt la forme du politique Ces considérations ne prétendent nullement périmer les termes de planification linguistique ou de politique de la langue Mais il faut prendre en compte que P toute décision de politique de la langue aura nécessairement si elle entre en application des conséquences glottopolitiques c est en particulier ce qu exprime l opposition anglo saxonne entre language corpus planning et language status planning Pool L Guespin et J B Marcellesi LANGAGES n La pagination originale est indiquée dans le texte comme suit p n GLOTTOPOL N Janvier'"
      ]
     },
     "execution_count": 25,
     "metadata": {},
     "output_type": "execute_result"
    }
   ],
   "source": [
    "data = \" \".join(data.split())\n",
    "data"
   ]
  },
  {
   "cell_type": "code",
   "execution_count": 26,
   "metadata": {},
   "outputs": [
    {
     "ename": "AttributeError",
     "evalue": "'list' object has no attribute 'strip'",
     "output_type": "error",
     "traceback": [
      "\u001b[1;31m---------------------------------------------------------------------------\u001b[0m",
      "\u001b[1;31mAttributeError\u001b[0m                            Traceback (most recent call last)",
      "\u001b[1;32m<ipython-input-26-278df21844dc>\u001b[0m in \u001b[0;36m<module>\u001b[1;34m\u001b[0m\n\u001b[0;32m      1\u001b[0m \u001b[1;31m#Creo un objeto y llamo la libreria\u001b[0m\u001b[1;33m\u001b[0m\u001b[1;33m\u001b[0m\u001b[1;33m\u001b[0m\u001b[0m\n\u001b[0;32m      2\u001b[0m \u001b[0mfb\u001b[0m\u001b[1;33m=\u001b[0m\u001b[0mTextBlob\u001b[0m\u001b[1;33m(\u001b[0m\u001b[0massembled\u001b[0m\u001b[1;33m)\u001b[0m\u001b[1;33m\u001b[0m\u001b[1;33m\u001b[0m\u001b[0m\n\u001b[1;32m----> 3\u001b[1;33m \u001b[0mprint\u001b[0m\u001b[1;33m(\u001b[0m\u001b[0mfb\u001b[0m\u001b[1;33m.\u001b[0m\u001b[0mtranslate\u001b[0m\u001b[1;33m(\u001b[0m\u001b[0mfrom_lang\u001b[0m\u001b[1;33m=\u001b[0m\u001b[1;34m'fr'\u001b[0m\u001b[1;33m,\u001b[0m\u001b[0mto\u001b[0m\u001b[1;33m=\u001b[0m\u001b[1;34m'es'\u001b[0m\u001b[1;33m)\u001b[0m\u001b[1;33m)\u001b[0m\u001b[1;33m\u001b[0m\u001b[1;33m\u001b[0m\u001b[0m\n\u001b[0m",
      "\u001b[1;32m~\\anaconda3\\lib\\site-packages\\textblob\\blob.py\u001b[0m in \u001b[0;36mtranslate\u001b[1;34m(self, from_lang, to)\u001b[0m\n\u001b[0;32m    545\u001b[0m         \"\"\"\n\u001b[0;32m    546\u001b[0m         return self.__class__(self.translator.translate(self.raw,\n\u001b[1;32m--> 547\u001b[1;33m                               from_lang=from_lang, to_lang=to))\n\u001b[0m\u001b[0;32m    548\u001b[0m \u001b[1;33m\u001b[0m\u001b[0m\n\u001b[0;32m    549\u001b[0m     \u001b[1;32mdef\u001b[0m \u001b[0mdetect_language\u001b[0m\u001b[1;33m(\u001b[0m\u001b[0mself\u001b[0m\u001b[1;33m)\u001b[0m\u001b[1;33m:\u001b[0m\u001b[1;33m\u001b[0m\u001b[1;33m\u001b[0m\u001b[0m\n",
      "\u001b[1;32m~\\anaconda3\\lib\\site-packages\\textblob\\translate.py\u001b[0m in \u001b[0;36mtranslate\u001b[1;34m(self, source, from_lang, to_lang, host, type_)\u001b[0m\n\u001b[0;32m     59\u001b[0m             \u001b[1;32mexcept\u001b[0m \u001b[0mIndexError\u001b[0m\u001b[1;33m:\u001b[0m\u001b[1;33m\u001b[0m\u001b[1;33m\u001b[0m\u001b[0m\n\u001b[0;32m     60\u001b[0m                 \u001b[1;32mpass\u001b[0m\u001b[1;33m\u001b[0m\u001b[1;33m\u001b[0m\u001b[0m\n\u001b[1;32m---> 61\u001b[1;33m         \u001b[0mself\u001b[0m\u001b[1;33m.\u001b[0m\u001b[0m_validate_translation\u001b[0m\u001b[1;33m(\u001b[0m\u001b[0msource\u001b[0m\u001b[1;33m,\u001b[0m \u001b[0mresult\u001b[0m\u001b[1;33m)\u001b[0m\u001b[1;33m\u001b[0m\u001b[1;33m\u001b[0m\u001b[0m\n\u001b[0m\u001b[0;32m     62\u001b[0m         \u001b[1;32mreturn\u001b[0m \u001b[0mresult\u001b[0m\u001b[1;33m\u001b[0m\u001b[1;33m\u001b[0m\u001b[0m\n\u001b[0;32m     63\u001b[0m \u001b[1;33m\u001b[0m\u001b[0m\n",
      "\u001b[1;32m~\\anaconda3\\lib\\site-packages\\textblob\\translate.py\u001b[0m in \u001b[0;36m_validate_translation\u001b[1;34m(self, source, result)\u001b[0m\n\u001b[0;32m     82\u001b[0m         \u001b[1;32mif\u001b[0m \u001b[0mPY2\u001b[0m\u001b[1;33m:\u001b[0m\u001b[1;33m\u001b[0m\u001b[1;33m\u001b[0m\u001b[0m\n\u001b[0;32m     83\u001b[0m             \u001b[0mresult\u001b[0m \u001b[1;33m=\u001b[0m \u001b[0mresult\u001b[0m\u001b[1;33m.\u001b[0m\u001b[0mencode\u001b[0m\u001b[1;33m(\u001b[0m\u001b[1;34m'utf-8'\u001b[0m\u001b[1;33m)\u001b[0m\u001b[1;33m\u001b[0m\u001b[1;33m\u001b[0m\u001b[0m\n\u001b[1;32m---> 84\u001b[1;33m         \u001b[1;32mif\u001b[0m \u001b[0mresult\u001b[0m\u001b[1;33m.\u001b[0m\u001b[0mstrip\u001b[0m\u001b[1;33m(\u001b[0m\u001b[1;33m)\u001b[0m \u001b[1;33m==\u001b[0m \u001b[0msource\u001b[0m\u001b[1;33m.\u001b[0m\u001b[0mstrip\u001b[0m\u001b[1;33m(\u001b[0m\u001b[1;33m)\u001b[0m\u001b[1;33m:\u001b[0m\u001b[1;33m\u001b[0m\u001b[1;33m\u001b[0m\u001b[0m\n\u001b[0m\u001b[0;32m     85\u001b[0m             \u001b[1;32mraise\u001b[0m \u001b[0mNotTranslated\u001b[0m\u001b[1;33m(\u001b[0m\u001b[1;34m'Translation API returned the input string unchanged.'\u001b[0m\u001b[1;33m)\u001b[0m\u001b[1;33m\u001b[0m\u001b[1;33m\u001b[0m\u001b[0m\n\u001b[0;32m     86\u001b[0m \u001b[1;33m\u001b[0m\u001b[0m\n",
      "\u001b[1;31mAttributeError\u001b[0m: 'list' object has no attribute 'strip'"
     ]
    }
   ],
   "source": [
    "#Creo un objeto y llamo la libreria\n",
    "fb=TextBlob(assembled)\n",
    "print(fb.translate(from_lang='fr',to='es'))"
   ]
  }
 ],
 "metadata": {
  "kernelspec": {
   "display_name": "Python 3",
   "language": "python",
   "name": "python3"
  },
  "language_info": {
   "codemirror_mode": {
    "name": "ipython",
    "version": 3
   },
   "file_extension": ".py",
   "mimetype": "text/x-python",
   "name": "python",
   "nbconvert_exporter": "python",
   "pygments_lexer": "ipython3",
   "version": "3.7.6"
  }
 },
 "nbformat": 4,
 "nbformat_minor": 4
}
