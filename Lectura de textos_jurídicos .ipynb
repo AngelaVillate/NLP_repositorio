{
 "cells": [
  {
   "attachments": {
    "image.png": {
     "image/png": "[encoded data removed]"
    }
   },
   "cell_type": "markdown",
   "metadata": {},
   "source": [
    "![image.png](attachment:image.png)\n",
    "# Ejercicio de lectura de PDF para textos jurídicos o con más que texto"
   ]
  },
  {
   "cell_type": "markdown",
   "metadata": {},
   "source": [
    "#### Para usar Fitz, previamente instalamos pip install PyMuPDF en la consola"
   ]
  },
  {
   "cell_type": "code",
   "execution_count": 1,
   "metadata": {},
   "outputs": [],
   "source": [
    "import fitz"
   ]
  },
  {
   "cell_type": "markdown",
   "metadata": {},
   "source": [
    "Lectura del archivo y referenciación general: número de páginas y metadatos"
   ]
  },
  {
   "cell_type": "code",
   "execution_count": 7,
   "metadata": {},
   "outputs": [
    {
     "name": "stdout",
     "output_type": "stream",
     "text": [
      "Número de páginas:  612\n",
      "Metadatos:  {'format': 'PDF 1.5', 'title': 'REPÃ\\x9aBLICA DE COLOMBIA', 'author': 'Your User Name', 'subject': '', 'keywords': '', 'creator': 'MicrosoftÂ® Word 2016', 'producer': 'MicrosoftÂ® Word 2016', 'creationDate': \"D:20210111042044-05'00'\", 'modDate': \"D:20210111042044-05'00'\", 'trapped': '', 'encryption': None}\n"
     ]
    }
   ],
   "source": [
    "pdf_documento = \"sentencia_prueba2.pdf\"\n",
    "documento = fitz.open(pdf_documento)\n",
    "print (\"Número de páginas: \",documento.pageCount)\n",
    "print (\"Metadatos: \",documento.metadata)\n"
   ]
  },
  {
   "cell_type": "markdown",
   "metadata": {},
   "source": [
    "Lectura de una página en particular"
   ]
  },
  {
   "cell_type": "code",
   "execution_count": 9,
   "metadata": {},
   "outputs": [
    {
     "name": "stdout",
     "output_type": "stream",
     "text": [
      "Sentencia C-141/10 \n",
      " \n",
      "CONTROL \n",
      "DE \n",
      "CONSTITUCIONALIDAD \n",
      "DE \n",
      "LEY \n",
      "QUE \n",
      "CONVOCA A REFERENDO-Competencia de la Corte Constitucional \n",
      "  \n",
      "LEY DE CONVOCATORIA A REFERENDO-Naturaleza del control \n",
      "ejercido por la Corte Constitucional \n",
      "  \n",
      "LEY DE REFERENDO-Control ejercido por la Corte Constitucional es \n",
      "posterior a la sanción y promulgación \n",
      " \n",
      "LEY QUE CONVOCA A REFERENDO-Control automático de \n",
      "constitucionalidad \n",
      " \n",
      "PODER \n",
      "CONSTITUYENTE \n",
      "ORIGINARIO \n",
      "Y \n",
      "PODER \n",
      "CONSTITUYENTE DERIVADO-Conceptos y características \n",
      " \n",
      "El poder constituyente originario tiene por objetivo el establecimiento de \n",
      "una Constitución, está radicado en el pueblo y comporta un ejercicio \n",
      "pleno del poder político, lo que explica que sus actos son fundacionales, \n",
      "pues por medio de ellos se establece el orden jurídico, por lo que dichos \n",
      "actos escapan al control jurisdiccional. A diferencia del poder \n",
      "constituyente originario, el poder constituyente derivado, secundario o \n",
      "de reforma se refiere a la capacidad que tienen ciertos órganos del \n",
      "Estado para modificar una Constitución existente, pero dentro de los \n",
      "cauces determinados por la Constitución misma, de donde se desprende \n",
      "que se trata de un poder establecido por la Constitución y que se ejerce \n",
      "bajo las condiciones fijadas por ella misma, de manera que, aunque es \n",
      "poder constituyente, se encuentra instituido por la Constitución, por lo \n",
      "que es derivado y limitado, así como sujeto a controles. \n",
      " \n",
      "PODER \n",
      "DE \n",
      "REFORMA \n",
      "DE \n",
      "LA \n",
      "CONSTITUCION-\n",
      "Titulares/REFORMA DE LA CONSTITUCION-Mecanismos \n",
      " \n",
      "Al tenor de lo dispuesto en el artículo 374 superior, la Constitución \n",
      "puede ser reformada por el Congreso, mediante Acto Legislativo, por \n",
      "una asamblea constituyente o por el pueblo mediante referendo que \n",
      "puede ser de iniciativa gubernamental o de iniciativa popular. \n",
      " \n",
      "REFORMA \n",
      "DE \n",
      "LA \n",
      "CONSTITUCION \n",
      "MEDIANTE \n",
      "REFERENDO-Requisitos  \n",
      " \n",
      "La aprobación de una reforma mediante referendo requiere el voto \n",
      "afirmativo de más de la mitad de los sufragantes, y que el número de \n",
      "\n"
     ]
    }
   ],
   "source": [
    "pagina = documento.loadPage(0)\n",
    "text = pagina.getText(\"text\")\n",
    "print (text)"
   ]
  },
  {
   "cell_type": "markdown",
   "metadata": {},
   "source": [
    "Ejemplo con otra página"
   ]
  },
  {
   "cell_type": "code",
   "execution_count": 10,
   "metadata": {},
   "outputs": [
    {
     "name": "stdout",
     "output_type": "stream",
     "text": [
      "Expediente CRF-003 \n",
      " \n",
      "501 \n",
      " \n",
      "TABLA DE CONTENIDO  \n",
      " \n",
      " \n",
      "I. ANTECEDENTES \n",
      " \n",
      " \n",
      " \n",
      " \n",
      " \n",
      " \n",
      " \n",
      "2 \n",
      " \n",
      "II.  TEXTO DE LA LEY OBJETO DE REVISIÓN \n",
      " \n",
      " \n",
      " \n",
      "3 \n",
      " \n",
      " \n",
      "III. INTERVENCIONES CIUDADANAS \n",
      " \n",
      " \n",
      " \n",
      " \n",
      "4 \n",
      " \n",
      "1. Intervenciones ciudadanas a favor de la constitucionalidad de la  \n",
      "Ley 1354 de 2009 \n",
      " \n",
      " \n",
      " \n",
      " \n",
      " \n",
      " \n",
      " \n",
      " \n",
      "4 \n",
      "1.1. La eventual afectación de los topes de financiación del referendo \n",
      " y sus consecuencias en la constitucionalidad de la Ley 1354 de 2009 \n",
      " \n",
      "7 \n",
      "1.2. Ausencia de certificación sobre el cumplimiento de los topes  \n",
      "de financiación  \n",
      " \n",
      " \n",
      " \n",
      " \n",
      " \n",
      " \n",
      " \n",
      " \n",
      "9 \n",
      "1.3 Inexistencia de vicios de procedimiento en el trámite de la Ley 1354  \n",
      "de 2009 \n",
      " \n",
      " \n",
      " \n",
      " \n",
      " \n",
      " \n",
      " \n",
      " \n",
      " \n",
      "10 \n",
      "1.3.1. La publicación del Decreto 4742 de 2008 \n",
      " \n",
      " \n",
      " \n",
      " \n",
      "11 \n",
      "1.3.2. La convocatoria a sesiones extraordinarias \n",
      " \n",
      " \n",
      " \n",
      " \n",
      "13 \n",
      "1.3.3. No afectación de los principios de identidad y consecutividad \n",
      " \n",
      "13 \n",
      "1.4. La reforma constitucional propuesta mediante la ley de convocatoria  \n",
      "a referendo no configura una sustitución de la Constitución \n",
      " \n",
      " \n",
      "15 \n",
      "2. Intervenciones a favor de una declaratoria de inexequibilidad  \n",
      "de la Ley 1354 de 2009 \n",
      " \n",
      " \n",
      " \n",
      " \n",
      " \n",
      " \n",
      " \n",
      "18 \n",
      "2.1. Inexequibilidad de la Ley 1354 de 2009 por exceder el monto de  \n",
      "dinero privado para la financiación de la iniciativa ciudadana \n",
      " \n",
      " \n",
      "27 \n",
      "2.1.1. La superación de los topes -global e individual- de financiación \n",
      " \n",
      "28  \n",
      "2.1.2. El Registrador Nacional del Estado Civil no certificó el  \n",
      "cumplimiento de los requisitos constitucionales y legales  \n",
      " \n",
      " \n",
      "29 \n",
      "2.2. Modificación del texto de la iniciativa ciudadana durante el  \n",
      "trámite del proyecto de ley en el Congreso  \n",
      " \n",
      " \n",
      " \n",
      " \n",
      "31 \n",
      "2.3. Citación de los miembros del Congreso a sesiones  \n",
      "extraordinarias sin el lleno de los requisitos constitucionales y legales exigidos 32 \n",
      "2.4. Falta de competencia de la Comisión de Conciliación  \n",
      " \n",
      " \n",
      "33 \n",
      "2.5. Votación de los impedimentos  \n",
      " \n",
      " \n",
      " \n",
      " \n",
      " \n",
      "34 \n",
      "2.6. Los votos de algunos congresistas son fruto de la desviación de poder \n",
      "35 \n",
      "2.7. El cambio de partido de cinco miembros de la bancada de Cambio Radical 36 \n",
      "2.8. Sustitución de la Constitución  \n",
      " \n",
      " \n",
      " \n",
      " \n",
      " \n",
      "38  \n",
      "2.8.1. Sustitución de la Constitución por desconocimiento del  \n",
      "principio de separación y equilibrio de las ramas del poder público \n",
      " \n",
      "39 \n",
      "2.8.2. Sustitución de la Constitución por vulneración del principio de igualdad \n",
      "41 \n",
      "2.8.3. Sustitución de la Constitución por violación del principio de  \n",
      "generalidad de las normas: prohibición de realizar una modificación  \n",
      "con nombre propio \n",
      " \n",
      " \n",
      " \n",
      " \n",
      " \n",
      " \n",
      " \n",
      " \n",
      "42 \n",
      "2.8.4. La Ley 1354 de 2009 convoca a una consulta de carácter  \n",
      "plebiscitario mas no referendario \n",
      " \n",
      " \n",
      " \n",
      " \n",
      " \n",
      " \n",
      "43 \n",
      "2.9. La convocatoria a un referendo constitucional no puede  \n",
      "contener la casilla de voto en blanco  \n",
      " \n",
      " \n",
      " \n",
      " \n",
      " \n",
      "45 \n",
      "3. Otras intervenciones \n",
      " \n",
      " \n",
      " \n",
      " \n",
      " \n",
      " \n",
      " \n",
      "46 \n",
      "\n"
     ]
    }
   ],
   "source": [
    "pagina = documento.loadPage(500)\n",
    "text = pagina.getText(\"text\")\n",
    "print (text)"
   ]
  },
  {
   "cell_type": "markdown",
   "metadata": {},
   "source": [
    "## Pasar archivo a txt"
   ]
  },
  {
   "cell_type": "code",
   "execution_count": 14,
   "metadata": {},
   "outputs": [],
   "source": [
    "nombrearchivo = \"sentencia_prueba2.pdf\"\n",
    "doc = fitz.open(nombrearchivo)\n",
    "salida = open (nombrearchivo+\".txt\",\"wb\")\n",
    "for pagina in doc:\n",
    "    texto = pagina.getText().encode(\"utf8\")\n",
    "    salida.write(texto)\n",
    "    salida.write(b\"\\n-----\\n\")\n",
    "salida.close()\n",
    "    "
   ]
  },
  {
   "cell_type": "markdown",
   "metadata": {},
   "source": [
    "### Ejercicio con Laudo arbitral"
   ]
  },
  {
   "cell_type": "code",
   "execution_count": 16,
   "metadata": {},
   "outputs": [
    {
     "name": "stdout",
     "output_type": "stream",
     "text": [
      "Número de páginas:  60\n",
      "Metadatos:  {'format': 'PDF 1.4', 'title': 'LAUDO C.D.I. CONSTRUCCIONES, DISEÃ\\x91OS E INTERVENTORÃ\\x8dAS LTDA - NHU DISEÃ\\x91OS CONSTRUCCIÃ\\x93N Y GERENCIA DE PROYECTOS S.A.S. Expediente No.116803.pdf', 'author': '', 'subject': '', 'keywords': '', 'creator': 'Preview', 'producer': 'macOS Version 10.14.6 (Build 18G3020) Quartz PDFContext', 'creationDate': 'D:20200605144501Z', 'modDate': \"D:20201028205108-05'00'\", 'trapped': '', 'encryption': None}\n"
     ]
    }
   ],
   "source": [
    "pdf_laudo = \"116803 C.D.I LTDA. VS. NHU DISEÑOS CONSTRUCCIÓN Y GERENCIA DE PROYECTOS S.A.S. 05 06 2020.pdf\"\n",
    "documento2 = fitz.open(pdf_laudo)\n",
    "print (\"Número de páginas: \",documento.pageCount)\n",
    "print (\"Metadatos: \",documento.metadata)"
   ]
  },
  {
   "cell_type": "code",
   "execution_count": 18,
   "metadata": {},
   "outputs": [
    {
     "name": "stdout",
     "output_type": "stream",
     "text": [
      "TRIBUNAL ARBITRAL de C.D.I. CONSTRUCCIONES, DISEÑOS E INTERVENTORÍAS LTDA contra NHU DISEÑOS CONSTRUCCIÓN Y GERENCIA DE PROYECTOS S.A.S. \n",
      "  \n",
      "Expediente No. 116803 \n",
      " \n",
      "Laudo Arbitral \n",
      " \n",
      " Página 55 de 60 \n",
      "por la ley, y las agencias en derecho que fije el magistrado sustanciador o el juez, \n",
      "aunque se litigue sin apoderado. \n",
      " \n",
      "“Los honorarios de los peritos contratados directamente por las partes serán incluidos \n",
      "en la liquidación de costas, siempre que aparezcan comprobados y el juez los \n",
      "encuentre razonables. Si su valor excede los parámetros establecidos por el Consejo \n",
      "Superior de la Judicatura y por las entidades especializadas, el juez los regulará. \n",
      " \n",
      "“4. Para la fijación de agencias en derecho deberán aplicarse las tarifas que establezca \n",
      "el Consejo Superior de la Judicatura. Si aquellas establecen solamente un mínimo, o \n",
      "este y un máximo, el juez tendrá en cuenta, además, la naturaleza, calidad y duración \n",
      "de la gestión realizada por el apoderado o la parte que litigó personalmente, la cuantía \n",
      "del proceso y otras circunstancias especiales, sin que pueda exceder el máximo de \n",
      "dichas tarifas(…)”. \n",
      " \n",
      "La Corte Constitucional, frente al tema de la imposición de costas, ha manifestado lo siguiente:  \n",
      " \n",
      "“La condena en costas no resulta de un obrar temerario o de mala fe, o siquiera \n",
      "culpable de la parte condenada, sino que es resultado de su derrota en el proceso o \n",
      "recurso que haya propuesto, según el artículo 365. Al momento de liquidarlas, \n",
      "conforme al artículo 366, se precisa que tanto las costas como las agencias en derecho \n",
      "corresponden a los costos en los que la parte beneficiaria de la condena incurrió en el \n",
      "proceso, siempre que exista prueba de su existencia, de su utilidad y de que \n",
      "correspondan a actuaciones autorizadas por la ley. De esta manera, las costas no se \n",
      "originan ni tienen el propósito de ser una indemnización de perjuicios causados por el \n",
      "mal proceder de una parte, ni pueden asumirse como una sanción en su contra”14. \n",
      " \n",
      "Como ya se precisó, el arbitraje, por definición legal, es un mecanismo alternativo de solución \n",
      "de conflictos mediante el cual las partes defieren a árbitros la solución de una controversia \n",
      "relativa a asuntos de libre disposición o aquellos que la ley autorice. Esta decisión autónoma \n",
      "y voluntaria de las partes, supone a su vez la responsabilidad de asumir los costos que este \n",
      "método de resolución de conflictos supone y en la proporción establecida en la Ley. \n",
      " \n",
      "En atención a las resultas del proceso, dentro de las cuales solo se dio la prosperidad parcial \n",
      "de las pretensiones y como quiera que la parte convocante sufragó la porción de honorarios y \n",
      "gastos que le correspondían a su contraparte, el Tribunal condenará parcialmente en costas a \n",
      "la parte convocada, con el objeto de que esta restituya a la convocante la porción de los \n",
      "honorarios y gastos a su cargo, en cuantía de TRES MILLONES TRESCIENTOS TREINTA Y \n",
      "TRES MIL ONCE PESOS M/CTE. ($3.333.011). \n",
      " \n",
      " \n",
      "14CORTE CONSTITUCIONAL Sentencia C-157/13, marzo 21 de 2013. M.P. Mauricio González Cuervo \n",
      "\n"
     ]
    }
   ],
   "source": [
    "pagina = documento2.loadPage(54)\n",
    "text = pagina.getText(\"text\")\n",
    "print (text)"
   ]
  },
  {
   "cell_type": "code",
   "execution_count": 20,
   "metadata": {},
   "outputs": [],
   "source": [
    "nombrelaudo = \"116803 C.D.I LTDA. VS. NHU DISEÑOS CONSTRUCCIÓN Y GERENCIA DE PROYECTOS S.A.S. 05 06 2020.pdf\"\n",
    "doc = fitz.open(nombrelaudo)\n",
    "salida = open (nombrelaudo+\".txt\",\"wb\")\n",
    "for pagina in doc:\n",
    "    texto = pagina.getText().encode(\"utf8\")\n",
    "    salida.write(texto)\n",
    "    salida.write(b\"\\n-----\\n\")\n",
    "salida.close()"
   ]
  },
  {
   "cell_type": "code",
   "execution_count": null,
   "metadata": {},
   "outputs": [],
   "source": []
  }
 ],
 "metadata": {
  "kernelspec": {
   "display_name": "Python 3",
   "language": "python",
   "name": "python3"
  },
  "language_info": {
   "codemirror_mode": {
    "name": "ipython",
    "version": 3
   },
   "file_extension": ".py",
   "mimetype": "text/x-python",
   "name": "python",
   "nbconvert_exporter": "python",
   "pygments_lexer": "ipython3",
   "version": "3.7.6"
  }
 },
 "nbformat": 4,
 "nbformat_minor": 4
}
