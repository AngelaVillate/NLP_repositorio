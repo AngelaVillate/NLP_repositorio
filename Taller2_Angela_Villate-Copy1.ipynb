{
 "cells": [
  {
   "cell_type": "code",
   "execution_count": null,
   "metadata": {},
   "outputs": [],
   "source": [
    "#Punto 1: debemos extraer los archivos de poemas.zip y contar las palabras más frecuentes. Para esto se usa la librería Zipfile"
   ]
  },
  {
   "cell_type": "code",
   "execution_count": 24,
   "metadata": {},
   "outputs": [],
   "source": [
    "import os\n",
    "from zipfile import ZipFile\n",
    "import pandas as pd\n",
    "ruta_archivo=\"poemas.zip\""
   ]
  },
  {
   "cell_type": "code",
   "execution_count": 25,
   "metadata": {},
   "outputs": [],
   "source": [
    "with ZipFile(ruta_archivo) as archivo :\n",
    "    archivo.extractall()"
   ]
  },
  {
   "cell_type": "code",
   "execution_count": 26,
   "metadata": {},
   "outputs": [],
   "source": [
    "def contar(arreglo):\n",
    "    contar = 0\n",
    "    for dia in arreglo:\n",
    "        contar += 1\n",
    "    return contar"
   ]
  },
  {
   "cell_type": "code",
   "execution_count": 27,
   "metadata": {},
   "outputs": [
    {
     "name": "stdout",
     "output_type": "stream",
     "text": [
      "0\n",
      "archivo :A un general (Julio Corta╠üzar).txt --> Numero Palabras : 46\n",
      "1\n",
      "archivo :Aqui╠ü (Octavio Paz).txt --> Numero Palabras : 23\n",
      "2\n",
      "archivo :Si╠ündrome (Mario Benedetti).txt --> Numero Palabras : 53\n"
     ]
    }
   ],
   "source": [
    "contador1 = -1\n",
    "with os.scandir(\"poemas\") as ficheros:\n",
    "    for fichero in ficheros:\n",
    "        contador1 += 1\n",
    "        ruta= \"poemas/\" + fichero.name\n",
    "        nombre_archivo, extension = os.path.splitext(ruta)\n",
    "        if(extension==\".txt\"):\n",
    "            with open(ruta) as archivo:\n",
    "                data = archivo.read().split()\n",
    "                cantidad=contar(data)\n",
    "                print(contador1)\n",
    "                print('archivo :' + fichero.name+ ' --> Numero Palabras : '+str(cantidad))"
   ]
  },
  {
   "cell_type": "code",
   "execution_count": null,
   "metadata": {},
   "outputs": [],
   "source": [
    "#Punto2: debemos extraer de 10 biografías de wikipedia la fuente y el título"
   ]
  },
  {
   "cell_type": "code",
   "execution_count": 7,
   "metadata": {},
   "outputs": [],
   "source": [
    "import urllib.request\n",
    "import bs4 as bs\n",
    "import numpy as np"
   ]
  },
  {
   "cell_type": "code",
   "execution_count": 8,
   "metadata": {},
   "outputs": [],
   "source": [
    "url = \"https://es.wikipedia.org/wiki/\""
   ]
  },
  {
   "cell_type": "code",
   "execution_count": 19,
   "metadata": {},
   "outputs": [],
   "source": [
    "url = \"https://es.wikipedia.org/wiki/\"\n",
    "biografias = [\"https://es.wikipedia.org/wiki/Joyce_Carol_Oates\",\"https://es.wikipedia.org/wiki/Aurora_Bern%C3%A1rdez\",\"https://es.wikipedia.org/wiki/Alejandra_Pizarnik\",\"https://es.wikipedia.org/wiki/Hipatia\",\"https://es.wikipedia.org/wiki/Olympe_de_Gouges\",\"https://es.wikipedia.org/wiki/Svetlana_Aleksi%C3%A9vich\",\"https://es.wikipedia.org/wiki/Alice_Munro\",\"https://es.wikipedia.org/wiki/Marguerite_Yourcenar\",\"https://es.wikipedia.org/wiki/Mar%C3%ADa_Moliner\",\"https://es.wikipedia.org/wiki/Virginia_Woolf\"]"
   ]
  },
  {
   "cell_type": "code",
   "execution_count": 20,
   "metadata": {},
   "outputs": [],
   "source": [
    "def busq_html(url):\n",
    "    request = urllib.request.urlopen(url)\n",
    "    fuente = request.read()\n",
    "    request.close()\n",
    "    arreglo_final_dato=encontrar_dato(fuente)\n",
    "    return arreglo_final_dato"
   ]
  },
  {
   "cell_type": "code",
   "execution_count": 21,
   "metadata": {},
   "outputs": [],
   "source": [
    "def encontrar_dato(fuente):\n",
    "    arreglo_link={}\n",
    "    contador_link=-1\n",
    "    pagina = bs.BeautifulSoup(fuente, \"html.parser\")\n",
    "    primer_parrafo=pagina.find(\"p\") \n",
    "    for link in primer_parrafo.find_all(\"a\"):\n",
    "        contador_link += 1\n",
    "        ruta_link=link.get(\"href\")\n",
    "        title=link.get(\"h1\")\n",
    "        contenido=link.contents[0]\n",
    "        arreglo_link[contador_link]={'ruta' : ruta_link \n",
    "                                    , 'titulo' : title \n",
    "                                    , 'contenido' : contenido\n",
    "                                    }\n",
    "    titulo=pagina.find(\"h1\").contents[0]\n",
    "    arreglo_pagina_final={\"pagina\" : titulo , \"links\" : arreglo_link}\n",
    "    return arreglo_pagina_final"
   ]
  },
  {
   "cell_type": "code",
   "execution_count": 22,
   "metadata": {},
   "outputs": [],
   "source": [
    "contador_paginas=-1\n",
    "arreglo_final_link={}\n",
    "for paginas in biografias:\n",
    "    contador_paginas+=1\n",
    "    arreglo_final_link[contador_paginas]=busq_html(paginas)"
   ]
  },
  {
   "cell_type": "code",
   "execution_count": 23,
   "metadata": {},
   "outputs": [
    {
     "name": "stdout",
     "output_type": "stream",
     "text": [
      "{0: {'pagina': 'Joyce Carol Oates', 'links': {0: {'ruta': '/wiki/Lockport', 'titulo': None, 'contenido': 'Lockport'}, 1: {'ruta': '/wiki/New_York', 'titulo': None, 'contenido': 'New York'}, 2: {'ruta': '/wiki/16_de_junio', 'titulo': None, 'contenido': '16 de junio'}, 3: {'ruta': '/wiki/1938', 'titulo': None, 'contenido': '1938'}, 4: {'ruta': '/wiki/Novelista', 'titulo': None, 'contenido': 'novelista'}, 5: {'ruta': '/wiki/Cuentista', 'titulo': None, 'contenido': 'cuentista'}, 6: {'ruta': '/wiki/Editorial_(empresa)', 'titulo': None, 'contenido': 'editora'}, 7: {'ruta': '/wiki/Estadounidense', 'titulo': None, 'contenido': 'estadounidense'}, 8: {'ruta': '/wiki/Universidad_de_Princeton', 'titulo': None, 'contenido': 'Universidad de Princeton'}, 9: {'ruta': '/wiki/Nueva_Jersey', 'titulo': None, 'contenido': 'Nueva Jersey'}, 10: {'ruta': '#cite_note-1', 'titulo': None, 'contenido': <span class=\"corchete-llamada\">[</span>}}}, 1: {'pagina': 'Aurora Bernárdez', 'links': {0: {'ruta': '/wiki/Buenos_Aires', 'titulo': None, 'contenido': 'Buenos Aires'}, 1: {'ruta': '/wiki/23_de_febrero', 'titulo': None, 'contenido': '23 de febrero'}, 2: {'ruta': '/wiki/1920', 'titulo': None, 'contenido': '1920'}, 3: {'ruta': '#cite_note-Aficionados-1', 'titulo': None, 'contenido': <span class=\"corchete-llamada\">[</span>}, 4: {'ruta': '#cite_note-Alfaguara-2', 'titulo': None, 'contenido': <span class=\"corchete-llamada\">[</span>}, 5: {'ruta': '#cite_note-3', 'titulo': None, 'contenido': <span class=\"corchete-llamada\">[</span>}, 6: {'ruta': '/wiki/Par%C3%ADs', 'titulo': None, 'contenido': 'París'}, 7: {'ruta': '/wiki/8_de_noviembre', 'titulo': None, 'contenido': '8 de noviembre'}, 8: {'ruta': '/wiki/2014', 'titulo': None, 'contenido': '2014'}, 9: {'ruta': '#cite_note-Muere_Aurora_Bernardez-4', 'titulo': None, 'contenido': <span class=\"corchete-llamada\">[</span>}, 10: {'ruta': '#cite_note-LaJornadaJalisco-5', 'titulo': None, 'contenido': <span class=\"corchete-llamada\">[</span>}, 11: {'ruta': '/wiki/Traductora', 'titulo': None, 'contenido': 'traductora'}, 12: {'ruta': '/wiki/Escritora', 'titulo': None, 'contenido': 'escritora'}, 13: {'ruta': '/wiki/Argentina', 'titulo': None, 'contenido': 'argentina'}, 14: {'ruta': '#cite_note-Konex-6', 'titulo': None, 'contenido': <span class=\"corchete-llamada\">[</span>}}}, 2: {'pagina': 'Alejandra Pizarnik', 'links': {0: {'ruta': '/wiki/Avellaneda_(Buenos_Aires)', 'titulo': None, 'contenido': 'Avellaneda'}, 1: {'ruta': '/wiki/29_de_abril', 'titulo': None, 'contenido': '29 de abril'}, 2: {'ruta': '/wiki/1936', 'titulo': None, 'contenido': '1936'}, 3: {'ruta': '/wiki/Buenos_Aires', 'titulo': None, 'contenido': 'Buenos Aires'}, 4: {'ruta': '/wiki/25_de_septiembre', 'titulo': None, 'contenido': '25 de septiembre'}, 5: {'ruta': '/wiki/1972', 'titulo': None, 'contenido': '1972'}, 6: {'ruta': '/wiki/Poeta', 'titulo': None, 'contenido': 'poetisa'}, 7: {'ruta': '/wiki/Traductora', 'titulo': None, 'contenido': 'traductora'}, 8: {'ruta': '/wiki/Argentina', 'titulo': None, 'contenido': 'argentina'}}}, 3: {'pagina': 'Hipatia', 'links': {0: {'ruta': '#cite_note-1', 'titulo': None, 'contenido': <span class=\"corchete-llamada\">[</span>}, 1: {'ruta': '/wiki/Alejandr%C3%ADa', 'titulo': None, 'contenido': 'Alejandría'}, 2: {'ruta': '/wiki/355', 'titulo': None, 'contenido': '355'}, 3: {'ruta': '/wiki/370', 'titulo': None, 'contenido': '370'}, 4: {'ruta': '/wiki/Ib%C3%ADdem', 'titulo': None, 'contenido': 'ibíd.'}, 5: {'ruta': '/wiki/Marzo', 'titulo': None, 'contenido': 'marzo'}, 6: {'ruta': '/wiki/415', 'titulo': None, 'contenido': '415'}, 7: {'ruta': '/wiki/416', 'titulo': None, 'contenido': '416'}, 8: {'ruta': '#cite_note-2', 'titulo': None, 'contenido': <span class=\"corchete-llamada\">[</span>}, 9: {'ruta': '/wiki/Filosof%C3%ADa', 'titulo': None, 'contenido': 'filósofa'}, 10: {'ruta': '/wiki/Maestro', 'titulo': None, 'contenido': 'maestra'}, 11: {'ruta': '/wiki/Neoplatonismo', 'titulo': None, 'contenido': 'neoplatónica'}, 12: {'ruta': '/wiki/Di%C3%B3cesis_de_Egipto', 'titulo': None, 'contenido': 'Egipto'}, 13: {'ruta': '#cite_note-3', 'titulo': None, 'contenido': <span class=\"corchete-llamada\">[</span>}, 14: {'ruta': '/wiki/Matem%C3%A1ticas', 'titulo': None, 'contenido': 'matemáticas'}, 15: {'ruta': '/wiki/Astronom%C3%ADa', 'titulo': None, 'contenido': 'astronomía'}, 16: {'ruta': '#cite_note-4', 'titulo': None, 'contenido': <span class=\"corchete-llamada\">[</span>}, 17: {'ruta': '/wiki/Escuela_neoplat%C3%B3nica_de_Alejandr%C3%ADa', 'titulo': None, 'contenido': 'Escuela neoplatónica de Alejandría'}, 18: {'ruta': '/wiki/Siglo_V', 'titulo': None, 'contenido': 'siglo V'}, 19: {'ruta': '/wiki/Plotino', 'titulo': None, 'contenido': 'Plotino'}, 20: {'ruta': '/wiki/L%C3%B3gica', 'titulo': None, 'contenido': 'lógicos'}, 21: {'ruta': '/wiki/Ascetismo', 'titulo': None, 'contenido': 'ascética'}, 22: {'ruta': '/wiki/Aristocracia', 'titulo': None, 'contenido': 'aristócratas'}, 23: {'ruta': '/wiki/Cristianismo', 'titulo': None, 'contenido': 'cristianos'}, 24: {'ruta': '/wiki/Paganismo', 'titulo': None, 'contenido': 'paganos'}, 25: {'ruta': '/wiki/Obispo', 'titulo': None, 'contenido': 'obispo'}, 26: {'ruta': '/wiki/Sinesio_de_Cirene', 'titulo': None, 'contenido': 'Sinesio de Cirene'}, 27: {'ruta': '/wiki/Hesiquio_de_Alejandr%C3%ADa', 'titulo': None, 'contenido': 'Hesiquio de Alejandría'}, 28: {'ruta': '/wiki/Orestes_(prefecto)', 'titulo': None, 'contenido': 'Orestes'}, 29: {'ruta': '/wiki/Prefecto_de_Egipto', 'titulo': None, 'contenido': 'prefecto de Egipto'}}}, 4: {'pagina': 'Olympe de Gouges', 'links': {0: {'ruta': '/wiki/Montauban', 'titulo': None, 'contenido': 'Montauban'}, 1: {'ruta': '/wiki/Francia', 'titulo': None, 'contenido': 'Francia'}, 2: {'ruta': '/wiki/7_de_mayo', 'titulo': None, 'contenido': '7 de mayo'}, 3: {'ruta': '/wiki/1748', 'titulo': None, 'contenido': '1748'}, 4: {'ruta': '/wiki/Par%C3%ADs', 'titulo': None, 'contenido': 'París'}, 5: {'ruta': '/wiki/3_de_noviembre', 'titulo': None, 'contenido': '3 de noviembre'}, 6: {'ruta': '/wiki/1793', 'titulo': None, 'contenido': '1793'}, 7: {'ruta': '/wiki/Seud%C3%B3nimo', 'titulo': None, 'contenido': 'seudónimo'}, 8: {'ruta': '/wiki/Escritora', 'titulo': None, 'contenido': 'escritora'}, 9: {'ruta': '/wiki/Dramaturga', 'titulo': None, 'contenido': 'dramaturga'}, 10: {'ruta': '/wiki/Panfletista', 'titulo': None, 'contenido': 'panfletista'}, 11: {'ruta': '/wiki/Filosof%C3%ADa_pol%C3%ADtica', 'titulo': None, 'contenido': 'filósofa política'}, 12: {'ruta': '/wiki/Declaraci%C3%B3n_de_los_Derechos_de_la_Mujer_y_de_la_Ciudadana', 'titulo': None, 'contenido': 'Declaración de los Derechos de la Mujer y de la Ciudadana'}, 13: {'ruta': '/wiki/1791', 'titulo': None, 'contenido': '1791'}, 14: {'ruta': '/wiki/Abolicionismo', 'titulo': None, 'contenido': 'abolición de la esclavitud'}, 15: {'ruta': '#cite_note-1', 'titulo': None, 'contenido': <span class=\"corchete-llamada\">[</span>}, 16: {'ruta': '/wiki/Girondino', 'titulo': None, 'contenido': 'Girondinos'}, 17: {'ruta': '/wiki/Guillotina', 'titulo': None, 'contenido': 'guillotinada'}, 18: {'ruta': '#cite_note-2', 'titulo': None, 'contenido': <span class=\"corchete-llamada\">[</span>}, 19: {'ruta': '#cite_note-3', 'titulo': None, 'contenido': <span class=\"corchete-llamada\">[</span>}}}, 5: {'pagina': 'Svetlana Aleksiévich', 'links': {0: {'ruta': '#cite_note-nota-1', 'titulo': None, 'contenido': <span class=\"corchete-llamada\">[</span>}, 1: {'ruta': '#cite_note-nota-1', 'titulo': None, 'contenido': <span class=\"corchete-llamada\">[</span>}, 2: {'ruta': '/wiki/Romanizaci%C3%B3n_del_ruso', 'titulo': None, 'contenido': 'transliterado'}, 3: {'ruta': '/wiki/Idioma_ruso', 'titulo': None, 'contenido': 'ruso'}, 4: {'ruta': '/wiki/Idioma_bielorruso', 'titulo': None, 'contenido': 'bielorruso'}, 5: {'ruta': '/wiki/Variantes_del_alfabeto_cir%C3%ADlico#Bielorruso', 'titulo': None, 'contenido': 'transcrito'}, 6: {'ruta': '/wiki/Ivano-Frankivsk', 'titulo': None, 'contenido': 'Stanislav'}, 7: {'ruta': '/wiki/Ucrania_sovi%C3%A9tica', 'titulo': None, 'contenido': 'Ucrania soviética'}, 8: {'ruta': '/wiki/Uni%C3%B3n_Sovi%C3%A9tica', 'titulo': None, 'contenido': 'Unión Soviética'}, 9: {'ruta': '/wiki/31_de_mayo', 'titulo': None, 'contenido': '31 de mayo'}, 10: {'ruta': '/wiki/1948', 'titulo': None, 'contenido': '1948'}, 11: {'ruta': '/wiki/Bielorrusia', 'titulo': None, 'contenido': 'bielorrusa'}, 12: {'ruta': '/wiki/Lengua_rusa', 'titulo': None, 'contenido': 'lengua rusa'}, 13: {'ruta': '/wiki/Premio_Nobel_de_Literatura', 'titulo': None, 'contenido': 'Premio Nobel de Literatura'}, 14: {'ruta': '/wiki/2015', 'titulo': None, 'contenido': '2015'}, 15: {'ruta': '#cite_note-2', 'titulo': None, 'contenido': <span class=\"corchete-llamada\">[</span>}}}, 6: {'pagina': 'Alice Munro', 'links': {0: {'ruta': '/wiki/Wingham', 'titulo': None, 'contenido': 'Wingham'}, 1: {'ruta': '/wiki/Ontario', 'titulo': None, 'contenido': 'Ontario'}, 2: {'ruta': '/wiki/10_de_julio', 'titulo': None, 'contenido': '10 de julio'}, 3: {'ruta': '/wiki/1931', 'titulo': None, 'contenido': '1931'}, 4: {'ruta': '/wiki/Canad%C3%A1', 'titulo': None, 'contenido': 'canadiense'}, 5: {'ruta': '/wiki/Lengua_inglesa', 'titulo': None, 'contenido': 'lengua inglesa'}, 6: {'ruta': '/wiki/Premio_Nobel_de_Literatura', 'titulo': None, 'contenido': 'Premio Nobel de Literatura'}}}, 7: {'pagina': 'Marguerite Yourcenar', 'links': {0: {'ruta': '/wiki/Bruselas', 'titulo': None, 'contenido': 'Bruselas'}, 1: {'ruta': '/wiki/B%C3%A9lgica', 'titulo': None, 'contenido': 'Bélgica'}, 2: {'ruta': '/wiki/8_de_junio', 'titulo': None, 'contenido': '8 de junio'}, 3: {'ruta': '/wiki/1903', 'titulo': None, 'contenido': '1903'}, 4: {'ruta': '/wiki/Maine', 'titulo': None, 'contenido': 'Maine'}, 5: {'ruta': '/wiki/Estados_Unidos', 'titulo': None, 'contenido': 'Estados Unidos'}, 6: {'ruta': '/wiki/17_de_diciembre', 'titulo': None, 'contenido': '17 de diciembre'}, 7: {'ruta': '/wiki/1987', 'titulo': None, 'contenido': '1987'}, 8: {'ruta': '/wiki/Seud%C3%B3nimo', 'titulo': None, 'contenido': 'seudónimo'}, 9: {'ruta': '/wiki/Novelista', 'titulo': None, 'contenido': 'novelista'}, 10: {'ruta': '/wiki/Ensayista', 'titulo': None, 'contenido': 'ensayista'}, 11: {'ruta': '/wiki/Poetisa', 'titulo': None, 'contenido': 'poeta'}, 12: {'ruta': '/wiki/Dramaturgia', 'titulo': None, 'contenido': 'dramaturga'}, 13: {'ruta': '/wiki/Traducci%C3%B3n', 'titulo': None, 'contenido': 'traductora'}, 14: {'ruta': '/wiki/B%C3%A9lgica', 'titulo': None, 'contenido': 'belga'}, 15: {'ruta': '#cite_note-1', 'titulo': None, 'contenido': <span class=\"corchete-llamada\">[</span>}, 16: {'ruta': '#cite_note-2', 'titulo': None, 'contenido': <span class=\"corchete-llamada\">[</span>}}}, 8: {'pagina': 'María Moliner', 'links': {0: {'ruta': '/wiki/Paniza', 'titulo': None, 'contenido': 'Paniza'}, 1: {'ruta': '/wiki/Provincia_de_Zaragoza', 'titulo': None, 'contenido': 'Zaragoza'}, 2: {'ruta': '/wiki/30_de_marzo', 'titulo': None, 'contenido': '30 de marzo de'}, 3: {'ruta': '/wiki/1900', 'titulo': None, 'contenido': '1900'}, 4: {'ruta': '/wiki/Madrid', 'titulo': None, 'contenido': 'Madrid'}, 5: {'ruta': '/wiki/22_de_enero', 'titulo': None, 'contenido': '22 de enero'}, 6: {'ruta': '#cite_note-1', 'titulo': None, 'contenido': <span class=\"corchete-llamada\">[</span>}, 7: {'ruta': '/wiki/1981', 'titulo': None, 'contenido': '1981'}, 8: {'ruta': '/wiki/Bibliotecario', 'titulo': None, 'contenido': 'bibliotecaria'}, 9: {'ruta': '/wiki/Fil%C3%B3loga', 'titulo': None, 'contenido': 'filóloga'}, 10: {'ruta': '/wiki/Lexic%C3%B3grafa', 'titulo': None, 'contenido': 'lexicógrafa'}, 11: {'ruta': '/wiki/Diccionario_de_uso_del_espa%C3%B1ol', 'titulo': None, 'contenido': 'Diccionario de uso del español'}}}, 9: {'pagina': 'Virginia Woolf', 'links': {0: {'ruta': '/wiki/Londres', 'titulo': None, 'contenido': 'Londres'}, 1: {'ruta': '/wiki/25_de_enero', 'titulo': None, 'contenido': '25 de enero'}, 2: {'ruta': '/wiki/1882', 'titulo': None, 'contenido': '1882'}, 3: {'ruta': '/wiki/Lewes', 'titulo': None, 'contenido': 'Lewes'}, 4: {'ruta': '/wiki/Sussex', 'titulo': None, 'contenido': 'Sussex'}, 5: {'ruta': '/wiki/28_de_marzo', 'titulo': None, 'contenido': '28 de marzo'}, 6: {'ruta': '/wiki/1941', 'titulo': None, 'contenido': '1941'}, 7: {'ruta': '/wiki/Reino_Unido', 'titulo': None, 'contenido': 'británica'}, 8: {'ruta': '/wiki/Novela', 'titulo': None, 'contenido': 'novelas'}, 9: {'ruta': '/wiki/Cuento', 'titulo': None, 'contenido': 'cuentos'}, 10: {'ruta': '/wiki/Obra_de_teatro', 'titulo': None, 'contenido': 'obras teatrales'}, 11: {'ruta': '/wiki/Obra_literaria', 'titulo': None, 'contenido': 'obras literarias'}, 12: {'ruta': '/wiki/Vanguardismo', 'titulo': None, 'contenido': 'vanguardista'}, 13: {'ruta': '/wiki/Modernismo_anglosaj%C3%B3n', 'titulo': None, 'contenido': 'modernismo anglosajón'}, 14: {'ruta': '/wiki/Siglo_XX', 'titulo': None, 'contenido': 'siglo XX'}, 15: {'ruta': '/wiki/Feminismo', 'titulo': None, 'contenido': 'feminismo'}, 16: {'ruta': '#cite_note-4', 'titulo': None, 'contenido': <span class=\"corchete-llamada\">[</span>}}}}\n"
     ]
    }
   ],
   "source": [
    "print(arreglo_final_link)"
   ]
  },
  {
   "cell_type": "code",
   "execution_count": null,
   "metadata": {},
   "outputs": [],
   "source": []
  }
 ],
 "metadata": {
  "kernelspec": {
   "display_name": "Python 3",
   "language": "python",
   "name": "python3"
  },
  "language_info": {
   "codemirror_mode": {
    "name": "ipython",
    "version": 3
   },
   "file_extension": ".py",
   "mimetype": "text/x-python",
   "name": "python",
   "nbconvert_exporter": "python",
   "pygments_lexer": "ipython3",
   "version": "3.7.6"
  }
 },
 "nbformat": 4,
 "nbformat_minor": 4
}
