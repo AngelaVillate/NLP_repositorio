{
 "cells": [
  {
   "attachments": {
    "image.png": {
     "image/png": "[encoded data removed]"
    }
   },
   "cell_type": "markdown",
   "metadata": {},
   "source": [
    "![image.png](attachment:image.png)\n",
    "\n",
    "Ejercicio elaborado por Angela Villate\n",
    "\n",
    "Estudio de un laudo arbitral a partir de la librería transformers"
   ]
  },
  {
   "cell_type": "code",
   "execution_count": 1,
   "metadata": {},
   "outputs": [
    {
     "name": "stdout",
     "output_type": "stream",
     "text": [
      "Requirement already satisfied: transformers in c:\\users\\villa\\anaconda3\\lib\\site-packages (3.5.1)\n",
      "Requirement already satisfied: tokenizers==0.9.3 in c:\\users\\villa\\anaconda3\\lib\\site-packages (from transformers) (0.9.3)\n",
      "Requirement already satisfied: sacremoses in c:\\users\\villa\\anaconda3\\lib\\site-packages (from transformers) (0.0.43)\n",
      "Requirement already satisfied: numpy in c:\\users\\villa\\anaconda3\\lib\\site-packages (from transformers) (1.19.5)\n",
      "Requirement already satisfied: regex!=2019.12.17 in c:\\users\\villa\\anaconda3\\lib\\site-packages (from transformers) (2020.11.11)\n",
      "Requirement already satisfied: filelock in c:\\users\\villa\\anaconda3\\lib\\site-packages (from transformers) (3.0.12)\n",
      "Requirement already satisfied: tqdm>=4.27 in c:\\users\\villa\\anaconda3\\lib\\site-packages (from transformers) (4.46.0)\n",
      "Requirement already satisfied: protobuf in c:\\users\\villa\\anaconda3\\lib\\site-packages (from transformers) (3.17.1)\n",
      "Collecting sentencepiece==0.1.91\n",
      "  Downloading sentencepiece-0.1.91-cp37-cp37m-win_amd64.whl (1.2 MB)\n",
      "Requirement already satisfied: requests in c:\\users\\villa\\anaconda3\\lib\\site-packages (from transformers) (2.23.0)\n",
      "Requirement already satisfied: packaging in c:\\users\\villa\\anaconda3\\lib\\site-packages (from transformers) (20.1)\n",
      "Requirement already satisfied: six in c:\\users\\villa\\anaconda3\\lib\\site-packages (from packaging->transformers) (1.15.0)\n",
      "Requirement already satisfied: pyparsing>=2.0.2 in c:\\users\\villa\\anaconda3\\lib\\site-packages (from packaging->transformers) (2.4.6)\n",
      "Requirement already satisfied: urllib3!=1.25.0,!=1.25.1,<1.26,>=1.21.1 in c:\\users\\villa\\anaconda3\\lib\\site-packages (from requests->transformers) (1.25.8)\n",
      "Requirement already satisfied: idna<3,>=2.5 in c:\\users\\villa\\anaconda3\\lib\\site-packages (from requests->transformers) (2.8)\n",
      "Requirement already satisfied: chardet<4,>=3.0.2 in c:\\users\\villa\\anaconda3\\lib\\site-packages (from requests->transformers) (3.0.4)\n",
      "Requirement already satisfied: certifi>=2017.4.17 in c:\\users\\villa\\anaconda3\\lib\\site-packages (from requests->transformers) (2019.11.28)\n",
      "Requirement already satisfied: joblib in c:\\users\\villa\\anaconda3\\lib\\site-packages (from sacremoses->transformers) (0.14.1)\n",
      "Requirement already satisfied: click in c:\\users\\villa\\anaconda3\\lib\\site-packages (from sacremoses->transformers) (7.0)\n",
      "Installing collected packages: sentencepiece\n",
      "  Attempting uninstall: sentencepiece\n",
      "    Found existing installation: sentencepiece 0.1.94\n",
      "    Uninstalling sentencepiece-0.1.94:\n",
      "      Successfully uninstalled sentencepiece-0.1.94\n",
      "Successfully installed sentencepiece-0.1.91\n"
     ]
    },
    {
     "name": "stderr",
     "output_type": "stream",
     "text": [
      "WARNING: Ignoring invalid distribution -umpy (c:\\users\\villa\\anaconda3\\lib\\site-packages)\n",
      "WARNING: Ignoring invalid distribution -umpy (c:\\users\\villa\\anaconda3\\lib\\site-packages)\n",
      "WARNING: Ignoring invalid distribution -umpy (c:\\users\\villa\\anaconda3\\lib\\site-packages)\n",
      "    WARNING: Ignoring invalid distribution -umpy (c:\\users\\villa\\anaconda3\\lib\\site-packages)\n",
      "WARNING: Ignoring invalid distribution -umpy (c:\\users\\villa\\anaconda3\\lib\\site-packages)\n",
      "WARNING: Ignoring invalid distribution -umpy (c:\\users\\villa\\anaconda3\\lib\\site-packages)\n",
      "WARNING: Ignoring invalid distribution -umpy (c:\\users\\villa\\anaconda3\\lib\\site-packages)\n",
      "WARNING: Ignoring invalid distribution -umpy (c:\\users\\villa\\anaconda3\\lib\\site-packages)\n",
      "WARNING: You are using pip version 21.1.2; however, version 21.1.3 is available.\n",
      "You should consider upgrading via the 'c:\\users\\villa\\anaconda3\\python.exe -m pip install --upgrade pip' command.\n"
     ]
    }
   ],
   "source": [
    "!pip install transformers"
   ]
  },
  {
   "cell_type": "code",
   "execution_count": 2,
   "metadata": {},
   "outputs": [],
   "source": [
    "from transformers import pipeline, set_seed"
   ]
  },
  {
   "cell_type": "code",
   "execution_count": 4,
   "metadata": {},
   "outputs": [
    {
     "data": {
      "application/vnd.jupyter.widget-view+json": {
       "model_id": "2420b1a9d77c420a9258ec72f4392ad2",
       "version_major": 2,
       "version_minor": 0
      },
      "text/plain": [
       "HBox(children=(FloatProgress(value=0.0, description='Downloading', max=473.0, style=ProgressStyle(description_…"
      ]
     },
     "metadata": {},
     "output_type": "display_data"
    },
    {
     "name": "stdout",
     "output_type": "stream",
     "text": [
      "\n"
     ]
    },
    {
     "data": {
      "application/vnd.jupyter.widget-view+json": {
       "model_id": "beb65067a7ef4df9b35dfe18faab47b0",
       "version_major": 2,
       "version_minor": 0
      },
      "text/plain": [
       "HBox(children=(FloatProgress(value=0.0, description='Downloading', max=260793700.0, style=ProgressStyle(descri…"
      ]
     },
     "metadata": {},
     "output_type": "display_data"
    },
    {
     "name": "stdout",
     "output_type": "stream",
     "text": [
      "\n"
     ]
    },
    {
     "data": {
      "application/vnd.jupyter.widget-view+json": {
       "model_id": "da4c4f6e2bdc4a3faf5168a2ac1c6652",
       "version_major": 2,
       "version_minor": 0
      },
      "text/plain": [
       "HBox(children=(FloatProgress(value=0.0, description='Downloading', max=213450.0, style=ProgressStyle(descripti…"
      ]
     },
     "metadata": {},
     "output_type": "display_data"
    },
    {
     "name": "stdout",
     "output_type": "stream",
     "text": [
      "\n"
     ]
    }
   ],
   "source": [
    "nlp = pipeline(\"question-answering\")\n"
   ]
  },
  {
   "cell_type": "markdown",
   "metadata": {},
   "source": [
    "### Este es el extracto de un laudo CIADI"
   ]
  },
  {
   "cell_type": "code",
   "execution_count": 5,
   "metadata": {},
   "outputs": [],
   "source": [
    "context = r\"\"\"\n",
    "The Respondent accepts that the Tribunal's inquiry is limited to the legal merits of the\n",
    "Claimant's claims, but it submits that such an inquiry permits facts alleged by the\n",
    "Claimant to be critically examined by the Tribunal in order to assess whether these\n",
    "factual allegations are capable, as a matter of law, of constituting a breach of the BIT\n",
    "that is claimed by the Claimant to form the basis of the legal dispute with the\n",
    "Respondent. As Ms Smutny for the Respondent submitted during the first session,\n",
    "Article 41 (5) does not mean that there can be no consideration of the Claimant's factual\n",
    "allegations: the Tribunal need not accept \"legal conclusions that are couched as factual\n",
    "allegations, nor must the Tribunal accept speculative inferences that the Tribunal may \n",
    "\"\"\"\n"
   ]
  },
  {
   "cell_type": "code",
   "execution_count": 6,
   "metadata": {},
   "outputs": [
    {
     "name": "stdout",
     "output_type": "stream",
     "text": [
      "Answer 1: 'accepts that the Tribunal's inquiry is limited to the legal merits'\n"
     ]
    }
   ],
   "source": [
    "#Question 1\n",
    "result = nlp(question=\"What is the Respondent ?\", context=context)\n",
    "print(f\"Answer 1: '{result['answer']}'\")\n"
   ]
  },
  {
   "cell_type": "code",
   "execution_count": 7,
   "metadata": {},
   "outputs": [
    {
     "name": "stdout",
     "output_type": "stream",
     "text": [
      "Answer 2: 'Tribunal need not accept \"legal conclusions that are couched as factual allegations,'\n"
     ]
    }
   ],
   "source": [
    "#Question 2\n",
    "result = nlp(question=\"What is the legal conclusion?\", context=context)\n",
    "print(f\"Answer 2: '{result['answer']}'\")"
   ]
  },
  {
   "cell_type": "markdown",
   "metadata": {},
   "source": [
    "### Ahora haremos una prueba de pregunta y respuesta programada con transformers"
   ]
  },
  {
   "cell_type": "code",
   "execution_count": 11,
   "metadata": {},
   "outputs": [
    {
     "name": "stdout",
     "output_type": "stream",
     "text": [
      "Answer 3: 'facts alleged by the Claimant to be critically examined by the Tribunal'\n"
     ]
    }
   ],
   "source": [
    "#Question 3\n",
    "result = nlp(question=\"What does the Respondent submit?\", context=context)\n",
    "print(f\"Answer 3: '{result['answer']}'\")\n"
   ]
  },
  {
   "cell_type": "code",
   "execution_count": null,
   "metadata": {},
   "outputs": [],
   "source": []
  }
 ],
 "metadata": {
  "kernelspec": {
   "display_name": "Python 3",
   "language": "python",
   "name": "python3"
  },
  "language_info": {
   "codemirror_mode": {
    "name": "ipython",
    "version": 3
   },
   "file_extension": ".py",
   "mimetype": "text/x-python",
   "name": "python",
   "nbconvert_exporter": "python",
   "pygments_lexer": "ipython3",
   "version": "3.7.6"
  }
 },
 "nbformat": 4,
 "nbformat_minor": 4
}
